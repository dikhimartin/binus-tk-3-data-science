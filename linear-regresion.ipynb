{
 "cells": [
  {
   "cell_type": "markdown",
   "metadata": {},
   "source": [
    "### Analisis Regresi Linear untuk Prediksi Harga Sewa"
   ]
  },
  {
   "cell_type": "markdown",
   "metadata": {},
   "source": [
    "#### Langkah 1: Menyiapkan Data\n",
    "\n",
    "Variabel independen (X) adalah variabel yang dapat mempengaruhi atau menjelaskan variabel dependen. Dalam konteks ini, kita ingin menggunakan regresi linear untuk memprediksi harga sewa (variabel dependen) berdasarkan beberapa fitur atau atribut tertentu. Oleh karena itu:\n",
    "\n",
    "- Variabel independen (X):\n",
    "    - Ukuran ruang kantor  (m²)\n",
    "- Variabel dependen (Y):\n",
    "    - Harga sewa perbulan\n",
    "\n",
    "> Jadi, variabel independen (X) adalah Ukuran, sedangkan variabel dependen (Y) adalah Harga Sewa.    "
   ]
  },
  {
   "cell_type": "code",
   "execution_count": 24,
   "metadata": {},
   "outputs": [],
   "source": [
    "# Import library\n",
    "import pandas as pd\n",
    "import numpy as np\n",
    "\n",
    "# Baca data dari tabel\n",
    "data = pd.DataFrame({\n",
    "    'Ukuran': [510, 550, 620, 630, 655, 700, 780, 800, 920, 1000],\n",
    "    'Harga Sewa': [320, 385, 400, 392, 380, 410, 480, 600, 570, 620]\n",
    "})"
   ]
  },
  {
   "cell_type": "markdown",
   "metadata": {},
   "source": [
    "#### Langkah 2: Menambahkan Kolom Hasil Perhitungan\n",
    "\n",
    "Kemudian menambahkan kolom pada tabel hasil perhitungan dari $X², Y², XY$ dan total dari masing-masingnya.\n",
    "\n",
    "| No    | Ukuran | Lantai | Tarif Internet | Harga Sewa | X²      | Y²      | XY      |\n",
    "| ----- | ------ | ------ | -------------- | ---------- | ------- | ------- | ------- |\n",
    "| 1     | 510    | 4      | 8              | 320        | 260100  | 102400  | 163200  |\n",
    "| 2     | 550    | 7      | 50             | 385        | 302500  | 148225  | 211750  |\n",
    "| 3     | 620    | 9      | 7              | 400        | 384400  | 160000  | 248000  |\n",
    "| 4     | 630    | 5      | 24             | 392        | 396900  | 153664  | 246960  |\n",
    "| 5     | 655    | 8      | 100            | 380        | 429025  | 144400  | 248900  |\n",
    "| 6     | 700    | 4      | 8              | 410        | 490000  | 168100  | 287000  |\n",
    "| 7     | 780    | 10     | 7              | 480        | 608400  | 230400  | 374400  |\n",
    "| 8     | 800    | 12     | 50             | 600        | 640000  | 360000  | 480000  |\n",
    "| 9     | 920    | 14     | 8              | 570        | 846400  | 324900  | 524400  |\n",
    "| 10    | 1000   | 9      | 24             | 620        | 1000000 | 384400  | 620000  |\n",
    "| Total | -      | -      | -              | -          | 5357725 | 2176489 | 3404610 |\n",
    "\n",
    "Keterangan:\n",
    "\n",
    "- $X²$ merupakan kolom yang berisi hasil dari kuadrat setiap nilai pada kolom Ukuran.\n",
    "- $Y²$ merupakan kolom yang berisi hasil dari kuadrat setiap nilai pada kolom Harga Sewa.\n",
    "- $(XY)$ merupakan kolom yang berisi hasil perkalian setiap nilai pada kolom Ukuran dengan nilai pada kolom Harga Sewa.\n",
    "- Total $X^2$ $(Y^2)$, dan $(XY)$ adalah jumlah dari masing-masing kolom.\n"
   ]
  },
  {
   "cell_type": "code",
   "execution_count": 25,
   "metadata": {},
   "outputs": [],
   "source": [
    "# Tambahkan kolom X^2, Y^2, dan XY\n",
    "data['X^2'] = data['Ukuran'] ** 2\n",
    "data['Y^2'] = data['Harga Sewa'] ** 2\n",
    "data['XY'] = data['Ukuran'] * data['Harga Sewa']"
   ]
  },
  {
   "cell_type": "markdown",
   "metadata": {},
   "source": [
    "##### Langkah 3: Menghitung Total dari Masing-Masing Kolom"
   ]
  },
  {
   "cell_type": "code",
   "execution_count": 26,
   "metadata": {},
   "outputs": [],
   "source": [
    "# Hitung total dari masing-masing kolom\n",
    "total_x_squared = np.sum(data['X^2'])\n",
    "total_y_squared = np.sum(data['Y^2'])\n",
    "total_xy = np.sum(data['XY'])\n",
    "total_ukuran = np.sum(data['Ukuran'])\n",
    "total_harga_sewa = np.sum(data['Harga Sewa'])\n",
    "n = len(data)\n"
   ]
  },
  {
   "cell_type": "markdown",
   "metadata": {},
   "source": [
    "##### Langkah 4: Membuat Model Regresi Linear\n",
    "Dalam regresi linear, \\(Y\\) adalah variabel dependen (Harga Sewa), \\(X\\) adalah variabel independen (Ukuran), dan \\(a\\) serta \\(b\\) adalah parameter model yang perlu diestimasi. Model regresi linear dapat diwujudkan dalam bentuk persamaan: \n",
    "\n",
    "$ Y = a + bX $\n",
    "\n",
    "di mana:\n",
    "\n",
    "- \\( Y \\) adalah harga sewa,\n",
    "- \\( X \\) adalah ukuran ruang kantor, dan\n",
    "- \\( a \\) dan \\( b \\) adalah parameter yang perlu diestimasi."
   ]
  },
  {
   "cell_type": "markdown",
   "metadata": {},
   "source": [
    "##### Langkah 5: Menghitung Nilai a (Konstanta) dan b (Koefisien)\n",
    "\n",
    "   Rumus \\(a\\):\n",
    "\n",
    "   $ a = \\frac{(\\sum Y)(\\sum X^2) - (\\sum X)(\\sum XY)}{n(\\sum X^2) - (\\sum X)^2} $\n",
    "\n",
    "   Rumus \\(b\\):\n",
    "\n",
    "   $ b = \\frac{n(\\sum XY) - (\\sum X)(\\sum Y)}{n(\\sum X^2) - (\\sum X)^2} $"
   ]
  },
  {
   "cell_type": "code",
   "execution_count": 27,
   "metadata": {},
   "outputs": [],
   "source": [
    "# Hitung nilai a (konstanta) dan b (koefisien)\n",
    "a = (total_harga_sewa * total_x_squared - total_ukuran * total_xy) / (n * total_x_squared - total_ukuran**2)\n",
    "b = (n * total_xy - total_ukuran * total_harga_sewa) / (n * total_x_squared - total_ukuran**2)"
   ]
  },
  {
   "cell_type": "markdown",
   "metadata": {},
   "source": [
    "##### Langkah 6: Menampilkan Hasil"
   ]
  },
  {
   "cell_type": "code",
   "execution_count": 28,
   "metadata": {},
   "outputs": [
    {
     "name": "stdout",
     "output_type": "stream",
     "text": [
      "Nilai a (konstanta): 9.42943717146014\n",
      "Nilai b (koefisien): 0.6228479592861687\n",
      "Prediksi harga sewa untuk ukuran 730 m^2: 464.10844745036326\n"
     ]
    }
   ],
   "source": [
    "# Tampilkan nilai a dan b\n",
    "print(\"Nilai a (konstanta):\", a)\n",
    "print(\"Nilai b (koefisien):\", b)\n",
    "\n",
    "# Prediksi harga sewa untuk ukuran 730 m^2\n",
    "ukuran_baru = 730\n",
    "harga_sewa_prediksi = a + b * ukuran_baru\n",
    "print(\"Prediksi harga sewa untuk ukuran 730 m^2:\", harga_sewa_prediksi)"
   ]
  },
  {
   "cell_type": "markdown",
   "metadata": {},
   "source": [
    "> Pada analisis ini, kita telah mempersiapkan data. menambahkan kolom untuk perhitungan regresi linear, menghitung total dari masing-masing kolom, membuat model regresi linear, menghitung nilai a dan b, dan menampilkan hasil prediksi harga sewa. "
   ]
  }
 ],
 "metadata": {
  "kernelspec": {
   "display_name": "bol_datascience_course",
   "language": "python",
   "name": "python3"
  },
  "language_info": {
   "codemirror_mode": {
    "name": "ipython",
    "version": 3
   },
   "file_extension": ".py",
   "mimetype": "text/x-python",
   "name": "python",
   "nbconvert_exporter": "python",
   "pygments_lexer": "ipython3",
   "version": "3.8.18"
  }
 },
 "nbformat": 4,
 "nbformat_minor": 2
}

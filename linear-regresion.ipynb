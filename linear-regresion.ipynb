{
 "cells": [
  {
   "cell_type": "markdown",
   "metadata": {},
   "source": [
    "### Analisis Regresi Linear untuk Prediksi Harga Sewa"
   ]
  },
  {
   "cell_type": "markdown",
   "metadata": {},
   "source": [
    "#### Langkah 1: Menyiapkan Data"
   ]
  },
  {
   "cell_type": "code",
   "execution_count": 1,
   "metadata": {},
   "outputs": [],
   "source": [
    "# Import library\n",
    "import pandas as pd\n",
    "import numpy as np\n",
    "\n",
    "# Baca data dari tabel\n",
    "data = pd.DataFrame({\n",
    "    'Ukuran': [510, 550, 620, 630, 655, 700, 780, 800, 920, 1000],\n",
    "    'Harga Sewa': [320, 385, 400, 392, 380, 410, 480, 600, 570, 620]\n",
    "})"
   ]
  },
  {
   "cell_type": "markdown",
   "metadata": {},
   "source": [
    "#### Langkah 2: Menambahkan Kolom Hasil Perhitungan"
   ]
  },
  {
   "cell_type": "code",
   "execution_count": 2,
   "metadata": {},
   "outputs": [],
   "source": [
    "# Tambahkan kolom X^2, Y^2, dan XY\n",
    "data['X^2'] = data['Ukuran'] ** 2\n",
    "data['Y^2'] = data['Harga Sewa'] ** 2\n",
    "data['XY'] = data['Ukuran'] * data['Harga Sewa']"
   ]
  },
  {
   "cell_type": "markdown",
   "metadata": {},
   "source": [
    "##### Langkah 3: Menghitung Total dari Masing-Masing Kolom"
   ]
  },
  {
   "cell_type": "code",
   "execution_count": 9,
   "metadata": {},
   "outputs": [],
   "source": [
    "# Hitung total dari masing-masing kolom\n",
    "total_x_squared = np.sum(data['X^2'])\n",
    "total_y_squared = np.sum(data['Y^2'])\n",
    "total_xy = np.sum(data['XY'])\n",
    "total_ukuran = np.sum(data['Ukuran'])\n",
    "total_harga_sewa = np.sum(data['Harga Sewa'])\n",
    "n = len(data)\n"
   ]
  },
  {
   "cell_type": "markdown",
   "metadata": {},
   "source": [
    "##### Langkah 4: Membuat Model Regresi Linear\n",
    "$ Y = a + bX $"
   ]
  },
  {
   "cell_type": "markdown",
   "metadata": {},
   "source": [
    "##### Langkah 5: Menghitung Nilai a (Konstanta) dan b (Koefisien)\n",
    "\n",
    "   Rumus \\(a\\):\n",
    "\n",
    "   $ a = \\frac{(\\sum Y)(\\sum X^2) - (\\sum X)(\\sum XY)}{n(\\sum X^2) - (\\sum X)^2} $\n",
    "\n",
    "   Rumus \\(b\\):\n",
    "\n",
    "   $ b = \\frac{n(\\sum XY) - (\\sum X)(\\sum Y)}{n(\\sum X^2) - (\\sum X)^2} $"
   ]
  },
  {
   "cell_type": "code",
   "execution_count": 10,
   "metadata": {},
   "outputs": [],
   "source": [
    "# Hitung nilai a (konstanta) dan b (koefisien)\n",
    "a = (total_harga_sewa * total_x_squared - total_ukuran * total_xy) / (n * total_x_squared - total_ukuran**2)\n",
    "b = (n * total_xy - total_ukuran * total_harga_sewa) / (n * total_x_squared - total_ukuran**2)"
   ]
  },
  {
   "cell_type": "markdown",
   "metadata": {},
   "source": [
    "##### Langkah 6: Menampilkan Hasil"
   ]
  },
  {
   "cell_type": "code",
   "execution_count": 8,
   "metadata": {},
   "outputs": [
    {
     "name": "stdout",
     "output_type": "stream",
     "text": [
      "Nilai a (konstanta): 9.42943717146014\n",
      "Nilai b (koefisien): 0.6228479592861687\n",
      "Prediksi harga sewa untuk ukuran 730 m^2: 464.10844745036326\n"
     ]
    }
   ],
   "source": [
    "# Tampilkan nilai a dan b\n",
    "print(\"Nilai a (konstanta):\", a)\n",
    "print(\"Nilai b (koefisien):\", b)\n",
    "\n",
    "# Prediksi harga sewa untuk ukuran 730 m^2\n",
    "ukuran_baru = 730\n",
    "harga_sewa_prediksi = a + b * ukuran_baru\n",
    "print(\"Prediksi harga sewa untuk ukuran 730 m^2:\", harga_sewa_prediksi)\n"
   ]
  }
 ],
 "metadata": {
  "kernelspec": {
   "display_name": "bol_datascience_course",
   "language": "python",
   "name": "python3"
  },
  "language_info": {
   "codemirror_mode": {
    "name": "ipython",
    "version": 3
   },
   "file_extension": ".py",
   "mimetype": "text/x-python",
   "name": "python",
   "nbconvert_exporter": "python",
   "pygments_lexer": "ipython3",
   "version": "3.8.18"
  }
 },
 "nbformat": 4,
 "nbformat_minor": 2
}

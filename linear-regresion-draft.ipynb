{
 "cells": [
  {
   "cell_type": "code",
   "execution_count": 11,
   "metadata": {},
   "outputs": [],
   "source": [
    "# Pseudocode\n",
    "import pandas as pd\n",
    "import numpy as np"
   ]
  },
  {
   "cell_type": "code",
   "execution_count": 3,
   "metadata": {},
   "outputs": [],
   "source": [
    "# Step 1: Input data\n",
    "data = {\n",
    "    'Ukuran': [510, 550, 620, 630, 655, 700, 780, 800, 920, 1000],\n",
    "    'Harga_Sewa': [320, 385, 400, 392, 380, 410, 480, 600, 570, 620]\n",
    "}\n",
    "\n",
    "df = pd.DataFrame(data)"
   ]
  },
  {
   "cell_type": "code",
   "execution_count": 4,
   "metadata": {},
   "outputs": [],
   "source": [
    "# Step 2: Calculate X^2, Y^2, and XY\n",
    "df['X^2'] = df['Ukuran'] ** 2\n",
    "df['Y^2'] = df['Harga_Sewa'] ** 2\n",
    "df['XY'] = df['Ukuran'] * df['Harga_Sewa']"
   ]
  },
  {
   "cell_type": "code",
   "execution_count": 5,
   "metadata": {},
   "outputs": [],
   "source": [
    "# Step 3: Calculate the sum of X, Y, X^2, Y^2, and XY\n",
    "sum_x = df['Ukuran'].sum()\n",
    "sum_y = df['Harga_Sewa'].sum()\n",
    "sum_x_squared = df['X^2'].sum()\n",
    "sum_y_squared = df['Y^2'].sum()\n",
    "sum_xy = df['XY'].sum()\n"
   ]
  },
  {
   "cell_type": "code",
   "execution_count": 6,
   "metadata": {},
   "outputs": [],
   "source": [
    "# Step 4: Calculate the values of a and b\n",
    "n = len(df)\n",
    "a = (sum_y * sum_x_squared - sum_x * sum_xy) / (n * sum_x_squared - sum_x ** 2)\n",
    "b = (n * sum_xy - sum_x * sum_y) / (n * sum_x_squared - sum_x ** 2)"
   ]
  },
  {
   "cell_type": "code",
   "execution_count": 7,
   "metadata": {},
   "outputs": [],
   "source": [
    "# Step 5: Make predictions\n",
    "new_data = {'Ukuran': [730]}\n",
    "new_df = pd.DataFrame(new_data)\n",
    "prediction = a + b * new_df['Ukuran'].values[0]"
   ]
  },
  {
   "cell_type": "code",
   "execution_count": 16,
   "metadata": {},
   "outputs": [
    {
     "name": "stdout",
     "output_type": "stream",
     "text": [
      "Prediksi harga sewa untuk ukuran ruang kantor 730 m^2 adalah: 464.10844745036326\n"
     ]
    }
   ],
   "source": [
    "# Step 6: Display the result\n",
    "print(f\"Prediksi harga sewa untuk ukuran ruang kantor 730 m^2 adalah: {prediction}\")"
   ]
  }
 ],
 "metadata": {
  "kernelspec": {
   "display_name": "bol_datascience_course",
   "language": "python",
   "name": "python3"
  },
  "language_info": {
   "codemirror_mode": {
    "name": "ipython",
    "version": 3
   },
   "file_extension": ".py",
   "mimetype": "text/x-python",
   "name": "python",
   "nbconvert_exporter": "python",
   "pygments_lexer": "ipython3",
   "version": "3.8.18"
  }
 },
 "nbformat": 4,
 "nbformat_minor": 2
}
